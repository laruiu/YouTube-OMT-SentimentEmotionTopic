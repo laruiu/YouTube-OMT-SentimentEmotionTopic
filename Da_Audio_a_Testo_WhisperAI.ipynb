{
 "nbformat": 4,
 "nbformat_minor": 0,
 "metadata": {
  "colab": {
   "provenance": []
  },
  "kernelspec": {
   "name": "python3",
   "display_name": "Python 3"
  },
  "language_info": {
   "name": "python"
  }
 },
 "cells": [
  {
   "metadata": {},
   "cell_type": "markdown",
   "source": "### Conversione dell'audio in testo con il modello large di Whisper Ai "
  },
  {
   "metadata": {},
   "cell_type": "markdown",
   "source": "Per creare un file formato .txt preso da degli audio in formato .mp3, ho utilizzato il modello di apprendimento automatico **Whisper Ai**, finalizzato al riconoscimento vocale e alla trascrizione. Essendo uno dei migliori modelli per lingua italiana e uno dei più innovativi ho utilizzato il **model large** che per la lingua italiana ha un tasso di errore del 4%."
  },
  {
   "cell_type": "markdown",
   "source": [
    "Ho usato Google Colab per avere accesso al modello in modo efficace, vista la sua corposità e la richiesta di potenza per la trascrizione di audio in testo.\n",
    "Ho dovuto impostare il tipo  di **runtime** da quello default CPU a quello in **T4 GPU** per accelerare il processo. Ho inserito nella sezione dei file gli audio in formato mp3 per procedere alla conversione testuale.\n",
    "\n"
   ],
   "metadata": {
    "id": "vJn1L_TzSH1L"
   }
  },
  {
   "cell_type": "markdown",
   "source": "Il seguente codice è stato utilizzato per la conversione degli audio in testo. Il modello Whisper Ai trasforma l'audio in diversi formati che si troveranno nella sezione dei file. Dopo l'esecuzione finale per ciascun audio caricato, ho scaricato solo i file testuali in formato .txt, in quanto servono per procedere con il progetto.",
   "metadata": {
    "id": "T02g8qTLUHhr"
   }
  },
  {
   "cell_type": "code",
   "source": [
    "# La libreria Whisper verrà installata tramite pip dal repository GitHub di OpenAI\n",
    "!pip install git+https://github.com/openai/whisper.git"
   ],
   "metadata": {
    "id": "Q8BM43RYW7TY"
   },
   "execution_count": 1,
   "outputs": []
  },
  {
   "cell_type": "code",
   "source": [
    "# Aggiorna gli indici dei pacchetti disponibili nel sistema e installa FFmpeg, un framework\n",
    "# multimediale utilizzato per la gestione di file audio e video.\n",
    "!sudo apt update && sudo apt install ffmpeg"
   ],
   "metadata": {
    "id": "QtHDEigTW7fH"
   },
   "execution_count": null,
   "outputs": []
  },
  {
   "cell_type": "code",
   "source": [
    "# Comando che permette di utilizzare la libreria Whisper per trascrivere il file audio specificato attraverso un modello large\n",
    "# dove c'è \"YOUR FILE NAME\" inserire il nome del file o il suo path\n",
    "# !whisper \"YOUR FILE NAME\" --model large"
   ],
   "metadata": {
    "id": "_NWRJactW7px"
   },
   "execution_count": 2,
   "outputs": []
  },
  {
   "cell_type": "code",
   "source": [
    "!whisper \"/content/Bianca Balti da squatter alle passerelle più prestigiose del mondo - One More Time.mp3\" --model large"
   ],
   "metadata": {
    "id": "_WwrRNbQW-gQ"
   },
   "execution_count": null,
   "outputs": []
  },
  {
   "cell_type": "code",
   "source": [
    "!whisper \"/content/Steven Basalari un imprenditore Number One - One More Time.mp3\" --model large"
   ],
   "metadata": {
    "id": "6xVJjIDmZ1xx"
   },
   "execution_count": null,
   "outputs": []
  },
  {
   "cell_type": "markdown",
   "source": [
    "L'esecuzione dell'audio e la trascrizione in testo per la produzione di file in diversi formati in modo automatico è durata diverse ore."
   ],
   "metadata": {
    "id": "p6wG_Bmtag6r"
   }
  },
  {
   "metadata": {},
   "cell_type": "markdown",
   "source": "#### Il seguente file è stato creato con Google Colaboratory"
  },
  {
   "metadata": {},
   "cell_type": "code",
   "outputs": [],
   "execution_count": null,
   "source": ""
  }
 ]
}
